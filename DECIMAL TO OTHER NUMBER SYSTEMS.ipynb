{
 "cells": [
  {
   "cell_type": "code",
   "execution_count": 205,
   "id": "75387908",
   "metadata": {},
   "outputs": [
    {
     "name": "stdout",
     "output_type": "stream",
     "text": [
      "ENTER NUMBER:240\n",
      "11110000"
     ]
    }
   ],
   "source": [
    "#DECIMAL TO BINARY (INTEGER NUMBERS)\n",
    "\n",
    "global y,l\n",
    "l=[]\n",
    "y=int(input(\"ENTER NUMBER:\"))\n",
    "while y>0:\n",
    "    x=divmod(y,2)\n",
    "    y=x[0]\n",
    "    w=str(x[1])\n",
    "    for i in w:\n",
    "        l.append(i)\n",
    "    \n",
    "    \n",
    "    \n",
    "    \n",
    "    if y==0:\n",
    "        break\n",
    "        \n",
    "    \n",
    "        \n",
    "\n",
    "l.reverse()\n",
    "\n",
    "for j in l:\n",
    "    print(j,end=\"\")\n",
    "\n",
    "    \n",
    "    \n",
    "    "
   ]
  },
  {
   "cell_type": "code",
   "execution_count": 134,
   "id": "34dcc326",
   "metadata": {},
   "outputs": [
    {
     "name": "stdout",
     "output_type": "stream",
     "text": [
      "ENTER NUMBER:240\n",
      "360"
     ]
    }
   ],
   "source": [
    "\n",
    "#DECIMAL TO OCTAl\n",
    "\n",
    "global y,l\n",
    "l=[]\n",
    "y=int(input(\"ENTER NUMBER:\"))\n",
    "while y>0:\n",
    "    x=divmod(y,8)\n",
    "    y=x[0]\n",
    "    w=str(x[1])\n",
    "    for i in w:\n",
    "        l.append(i)\n",
    "    \n",
    "    \n",
    "    \n",
    "    \n",
    "    if y==0:\n",
    "        break\n",
    "        \n",
    "    \n",
    "        \n",
    "\n",
    "l.reverse()\n",
    "\n",
    "for j in l:\n",
    "    print(j,end=\"\")"
   ]
  },
  {
   "cell_type": "code",
   "execution_count": 28,
   "id": "505dba9e",
   "metadata": {},
   "outputs": [
    {
     "name": "stdout",
     "output_type": "stream",
     "text": [
      "ENTER NUMBER:2352\n",
      "930"
     ]
    }
   ],
   "source": [
    "\n",
    "#DECIMAL TO HEXADECIMAL\n",
    "\n",
    "global y,l\n",
    "l=[]\n",
    "y=int(input(\"ENTER NUMBER:\"))\n",
    "while y>0:\n",
    "    x=divmod(y,16)\n",
    "    y=x[0]\n",
    "    #print(list(x))\n",
    "    l.append(list(x))\n",
    "#print(l)\n",
    "l.reverse()\n",
    "for i in l:\n",
    "    if i[1]==10:\n",
    "        i[1]=\"A\"\n",
    "    elif i[1]==11:\n",
    "        i[1]=\"B\"\n",
    "    elif i[1]==12:\n",
    "        i[1]=\"C\"\n",
    "    elif i[1]==13:\n",
    "        i[1]=\"D\"\n",
    "    elif i[1]==14:\n",
    "        i[1]=\"E\"\n",
    "    elif i[1]==15:\n",
    "        i[1]=\"F\"\n",
    "    \n",
    "    print(i[1],end=\"\")\n",
    "            "
   ]
  },
  {
   "cell_type": "code",
   "execution_count": 27,
   "id": "9878878c",
   "metadata": {},
   "outputs": [
    {
     "name": "stdout",
     "output_type": "stream",
     "text": [
      "ENTER NUMBER:26.25\n",
      "26\n",
      "11010.01"
     ]
    }
   ],
   "source": [
    "# #DECIMAL TO BINARY(FLOATING POINT NUMBERS)\n",
    "\n",
    "\n",
    "global y,l\n",
    "l=[]\n",
    "y=input(\"ENTER NUMBER:\")\n",
    "\n",
    "y0=y.split(\".\")\n",
    "#print(y0)\n",
    "y1=int(y0[0])\n",
    "y2=int(y0[1])\n",
    "o=str(y2)\n",
    "if len(o)==2:\n",
    "    y2=y2*0.01\n",
    "elif len(o)==3:\n",
    "    y2=y2*0.001\n",
    "elif len(o)==4:\n",
    "    y2=y2*0.0001\n",
    "elif len(o)==5:\n",
    "    y2=y2*0.00001    \n",
    "    \n",
    "print(y1)\n",
    "\n",
    "\n",
    "while y1>0:\n",
    "    x=divmod(y1,2)\n",
    "    y1=x[0]\n",
    "    w=str(x[1])\n",
    "    for i in w:\n",
    "        l.append(i)\n",
    "    \n",
    "    \n",
    "    \n",
    "    \n",
    "    if y==0:\n",
    "        break\n",
    "        \n",
    "\n",
    "l.reverse()\n",
    "\n",
    "for j in l:\n",
    "    print(j,end=\"\")\n",
    "\n",
    "    \n",
    "s=[]\n",
    "while y2!=1:\n",
    "    y2=y2*2\n",
    "    s.append(str(y2))\n",
    "print(\".\",end=\"\")\n",
    "\n",
    "for i in s:\n",
    "    print(i[0],end=\"\")\n",
    "    \n",
    "    \n",
    "\n",
    "\n",
    "    \n",
    "        \n",
    "\n"
   ]
  },
  {
   "cell_type": "code",
   "execution_count": null,
   "id": "d4c3e459",
   "metadata": {},
   "outputs": [],
   "source": []
  }
 ],
 "metadata": {
  "kernelspec": {
   "display_name": "Python 3",
   "language": "python",
   "name": "python3"
  },
  "language_info": {
   "codemirror_mode": {
    "name": "ipython",
    "version": 3
   },
   "file_extension": ".py",
   "mimetype": "text/x-python",
   "name": "python",
   "nbconvert_exporter": "python",
   "pygments_lexer": "ipython3",
   "version": "3.8.8"
  }
 },
 "nbformat": 4,
 "nbformat_minor": 5
}
